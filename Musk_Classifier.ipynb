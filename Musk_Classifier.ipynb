{
 "cells": [
  {
   "cell_type": "code",
   "execution_count": 1,
   "metadata": {},
   "outputs": [
    {
     "name": "stderr",
     "output_type": "stream",
     "text": [
      "Using TensorFlow backend.\n"
     ]
    }
   ],
   "source": [
    "import pandas as pd\n",
    "from keras.utils import to_categorical\n",
    "import keras\n",
    "from sklearn.preprocessing import LabelEncoder\n",
    "from sklearn.model_selection import train_test_split\n",
    "import numpy as np\n",
    "import keras_metrics"
   ]
  },
  {
   "cell_type": "code",
   "execution_count": 47,
   "metadata": {},
   "outputs": [
    {
     "name": "stdout",
     "output_type": "stream",
     "text": [
      "tracking <tf.Variable 'Variable_48:0' shape=() dtype=int32> tp\n",
      "tracking <tf.Variable 'Variable_49:0' shape=() dtype=int32> fp\n",
      "tracking <tf.Variable 'Variable_50:0' shape=() dtype=int32> tp\n",
      "tracking <tf.Variable 'Variable_51:0' shape=() dtype=int32> fn\n",
      "Train on 5278 samples, validate on 1320 samples\n",
      "Epoch 1/8\n",
      "5278/5278 [==============================] - 1s 136us/step - loss: 10.0990 - accuracy: 0.8748 - precision: 0.8955 - recall: 0.8878 - val_loss: 1.3081 - val_accuracy: 0.9205 - val_precision: 0.9821 - val_recall: 0.9311\n",
      "Epoch 2/8\n",
      "5278/5278 [==============================] - 0s 80us/step - loss: 1.7874 - accuracy: 0.9261 - precision: 0.9598 - recall: 0.9591 - val_loss: 1.0521 - val_accuracy: 0.9439 - val_precision: 0.9766 - val_recall: 0.9590\n",
      "Epoch 3/8\n",
      "5278/5278 [==============================] - 0s 82us/step - loss: 1.2568 - accuracy: 0.9392 - precision: 0.9651 - recall: 0.9647 - val_loss: 0.8567 - val_accuracy: 0.9598 - val_precision: 0.9660 - val_recall: 0.9893\n",
      "Epoch 4/8\n",
      "5278/5278 [==============================] - 0s 82us/step - loss: 0.9115 - accuracy: 0.9543 - precision: 0.9768 - recall: 0.9771 - val_loss: 0.8224 - val_accuracy: 0.9583 - val_precision: 0.9720 - val_recall: 0.9867\n",
      "Epoch 5/8\n",
      "5278/5278 [==============================] - 0s 83us/step - loss: 0.4403 - accuracy: 0.9657 - precision: 0.9818 - recall: 0.9804 - val_loss: 0.5693 - val_accuracy: 0.9682 - val_precision: 0.9789 - val_recall: 0.9897\n",
      "Epoch 6/8\n",
      "5278/5278 [==============================] - 0s 83us/step - loss: 0.5221 - accuracy: 0.9657 - precision: 0.9812 - recall: 0.9816 - val_loss: 0.2270 - val_accuracy: 0.9773 - val_precision: 0.9930 - val_recall: 0.9855\n",
      "Epoch 7/8\n",
      "5278/5278 [==============================] - 0s 83us/step - loss: 0.3103 - accuracy: 0.9744 - precision: 0.9897 - recall: 0.9887 - val_loss: 0.1402 - val_accuracy: 0.9818 - val_precision: 0.9872 - val_recall: 0.9989\n",
      "Epoch 8/8\n",
      "5278/5278 [==============================] - 0s 83us/step - loss: 0.3808 - accuracy: 0.9718 - precision: 0.9865 - recall: 0.9886 - val_loss: 0.3204 - val_accuracy: 0.9765 - val_precision: 0.9782 - val_recall: 0.9987\n"
     ]
    }
   ],
   "source": [
    "\n",
    "\n",
    "LE = LabelEncoder()\n",
    "train_df=pd.read_csv('musk_csv.csv')\n",
    "train_df = train_df.rename(columns=({'class':'class1'}))\n",
    "\n",
    "\n",
    "train_df['conformation']=LE.fit_transform(train_df['conformation_name'])\n",
    "train_df=train_df.drop(['conformation_name'],axis=1)\n",
    "X=train_df.drop(columns=['class1','molecule_name','ID'])\n",
    "y = train_df['class1']\n",
    "X_train,X_test,y_train,y_test = train_test_split(X,y,test_size=0.20, random_state=100)\n",
    "y_test1 = to_categorical(y_test)\n",
    "y_train1= to_categorical(y_train)\n",
    "\n",
    "model=keras.models.Sequential()\n",
    "\n",
    "n_col=X_train.shape[1]\n",
    "\n",
    "\n",
    "model.add(keras.layers.Dense(200,activation ='relu', input_shape=(n_col,)))\n",
    "model.add(keras.layers.Dense(200,activation='relu'))\n",
    "model.add(keras.layers.Dense(2,activation='softmax'))\n",
    "\n",
    "\n",
    "\n",
    "model.compile(optimizer='adam',loss='categorical_crossentropy', metrics=['accuracy',keras_metrics.precision(), keras_metrics.recall()])\n",
    "history=model.fit(X_train,y_train1, epochs=8,batch_size=25, validation_data=(X_test, y_test1))"
   ]
  },
  {
   "cell_type": "code",
   "execution_count": 51,
   "metadata": {},
   "outputs": [],
   "source": [
    "model.save('my_model.h5')"
   ]
  },
  {
   "cell_type": "code",
   "execution_count": 52,
   "metadata": {},
   "outputs": [
    {
     "name": "stdout",
     "output_type": "stream",
     "text": [
      "[0 0 1 ... 1 0 1]\n",
      "None\n"
     ]
    }
   ],
   "source": [
    "y_test=print(np.array(y_test))\n",
    "print(y_test)"
   ]
  },
  {
   "cell_type": "code",
   "execution_count": 53,
   "metadata": {},
   "outputs": [
    {
     "name": "stdout",
     "output_type": "stream",
     "text": [
      "dict_keys(['val_loss', 'val_accuracy', 'val_precision', 'val_recall', 'loss', 'accuracy', 'precision', 'recall'])\n"
     ]
    },
    {
     "data": {
      "image/png": "[encoded data removed]",
      "text/plain": [
       "<Figure size 432x288 with 1 Axes>"
      ]
     },
     "metadata": {
      "needs_background": "light"
     },
     "output_type": "display_data"
    }
   ],
   "source": [
    "from matplotlib import pyplot as plt\n",
    "print(history.history.keys())\n",
    "plt.plot(history.history['accuracy'])\n",
    "plt.plot(history.history['val_accuracy'])\n",
    "plt.title('model accuracy')\n",
    "plt.ylabel('accuracy')\n",
    "plt.xlabel('epoch')\n",
    "plt.legend(['train', 'val'], loc='lower right')\n",
    "plt.savefig('fig1')\n",
    "fig1=plt.show()\n",
    "\n"
   ]
  },
  {
   "cell_type": "code",
   "execution_count": 49,
   "metadata": {},
   "outputs": [
    {
     "data": {
      "image/png": "[encoded data removed]",
      "text/plain": [
       "<Figure size 432x288 with 1 Axes>"
      ]
     },
     "metadata": {
      "needs_background": "light"
     },
     "output_type": "display_data"
    }
   ],
   "source": [
    "plt.plot(history.history['loss'])\n",
    "plt.plot(history.history['val_loss'])\n",
    "plt.title('model loss')\n",
    "plt.ylabel('loss')\n",
    "plt.xlabel('epoch')\n",
    "plt.legend(['train', 'val'], loc='upper right')\n",
    "plt.savefig('fig2')\n",
    "plt.show()"
   ]
  },
  {
   "cell_type": "code",
   "execution_count": 10,
   "metadata": {},
   "outputs": [
    {
     "data": {
      "text/plain": [
       "array([0, 0, 1, ..., 1, 0, 1], dtype=int64)"
      ]
     },
     "execution_count": 10,
     "metadata": {},
     "output_type": "execute_result"
    }
   ],
   "source": [
    "y_test_pred = model.predict_classes(X_test)\n",
    "y_test_pred"
   ]
  },
  {
   "cell_type": "code",
   "execution_count": null,
   "metadata": {},
   "outputs": [],
   "source": []
  }
 ],
 "metadata": {
  "kernelspec": {
   "display_name": "Python 3",
   "language": "python",
   "name": "python3"
  },
  "language_info": {
   "codemirror_mode": {
    "name": "ipython",
    "version": 3
   },
   "file_extension": ".py",
   "mimetype": "text/x-python",
   "name": "python",
   "nbconvert_exporter": "python",
   "pygments_lexer": "ipython3",
   "version": "3.7.3"
  }
 },
 "nbformat": 4,
 "nbformat_minor": 2
}
